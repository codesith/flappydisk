{
 "cells": [
  {
   "cell_type": "code",
   "execution_count": 1,
   "metadata": {},
   "outputs": [],
   "source": [
    "import pandas as pd\n",
    "import numpy as np\n",
    "import ipywidgets as widgets\n",
    "from ipywidgets import Layout, HTML\n",
    "from IPython.core.interactiveshell import InteractiveShell\n",
    "from ipyevents import Event\n",
    "import random\n",
    "import threading\n",
    "from datetime import datetime"
   ]
  },
  {
   "cell_type": "code",
   "execution_count": 2,
   "metadata": {},
   "outputs": [],
   "source": [
    "# Setup global configurations\n",
    "InteractiveShell.ast_node_interactivity = \"all\"\n",
    "height = 10\n",
    "width = 20\n",
    "pd.set_option('display.max_rows', height)\n",
    "pd.set_option('display.max_columns', width)"
   ]
  },
  {
   "cell_type": "code",
   "execution_count": 3,
   "metadata": {},
   "outputs": [],
   "source": [
    "# Load empty board\n",
    "df = pd.DataFrame(np.array(list(\" \" * height * width)).reshape(height,width))\n",
    "disk = {\"x\":height//2-1, \"y\":width//3, \"img\":\"💾\"}\n",
    "df.iloc[(disk[\"x\"], disk[\"y\"])] = disk[\"img\"]"
   ]
  },
  {
   "cell_type": "code",
   "execution_count": 4,
   "metadata": {},
   "outputs": [],
   "source": [
    "# Initialize board\n",
    "output = widgets.Output()\n",
    "board = widgets.HBox([output], layout=Layout(height='350px'))\n",
    "def refreshBoard():\n",
    "    output.clear_output(wait=True)\n",
    "    with output:\n",
    "        display(df.style.set_properties(**{'height': '30px', 'width':'30px', 'font-size':'30px', \n",
    "                                           'padding':'0px', 'margin':'0px', 'line-height':'1'})\n",
    ")"
   ]
  },
  {
   "cell_type": "code",
   "execution_count": 5,
   "metadata": {},
   "outputs": [],
   "source": [
    "# Call this function to constantly refresh the board\n",
    "boardSpeed = 0.2\n",
    "def startRefresh():\n",
    "    refreshBoard()\n",
    "    timer = threading.Timer(boardSpeed, startRefresh)\n",
    "    timer.start()"
   ]
  },
  {
   "cell_type": "code",
   "execution_count": 6,
   "metadata": {},
   "outputs": [],
   "source": [
    "def getBoardArrayInt():\n",
    "    b = df.copy().to_numpy().reshape(200)\n",
    "    b[b == \" \"] = 0\n",
    "    b[b == \"💽\"] = 1\n",
    "    b[b == \"💾\"] = 2\n",
    "    return b"
   ]
  },
  {
   "cell_type": "code",
   "execution_count": 7,
   "metadata": {},
   "outputs": [],
   "source": [
    "keyHistory = pd.DataFrame(columns = [\"Board\", \"Key\"])\n",
    "def recordKey(key):\n",
    "    global keyHistory\n",
    "    keyHistory = keyHistory.append({\"Board\":getBoardArrayInt(), \"Key\":key}, ignore_index=True)"
   ]
  },
  {
   "cell_type": "code",
   "execution_count": 8,
   "metadata": {},
   "outputs": [],
   "source": [
    "diskDropSpeed = 0.5\n",
    "dropDiskTimer = None\n",
    "def dropDisk():\n",
    "    global disk, dropDiskTimer\n",
    "    nextX = disk[\"x\"] + 1\n",
    "    if nextX < height and df.iloc[(nextX, disk[\"y\"])] == \" \":\n",
    "        df.iloc[(disk[\"x\"], disk[\"y\"])] = \" \"\n",
    "        disk[\"x\"] = nextX\n",
    "        df.iloc[(disk[\"x\"], disk[\"y\"])] = disk[\"img\"]\n",
    "    recordKey(0)\n",
    "    dropDiskTimer = threading.Timer(diskDropSpeed, dropDisk)\n",
    "    dropDiskTimer.start()"
   ]
  },
  {
   "cell_type": "code",
   "execution_count": 9,
   "metadata": {},
   "outputs": [],
   "source": [
    "def saveKeyHistory():\n",
    "    now = datetime.now()\n",
    "    t = now.strftime(\"%Y.%m.%d.%H.%M.%S\")\n",
    "    keyHistory.to_pickle(\"./\"+t+\".pkl\")"
   ]
  },
  {
   "cell_type": "code",
   "execution_count": 10,
   "metadata": {},
   "outputs": [],
   "source": [
    "def jumpDisk():\n",
    "    global disk, dropDiskTimer\n",
    "    nextX = disk[\"x\"] - 1\n",
    "    if nextX >= 0 and df.iloc[(nextX, disk[\"y\"])] == \" \":\n",
    "        df.iloc[(disk[\"x\"], disk[\"y\"])] = \" \"\n",
    "        disk[\"x\"] = nextX\n",
    "        df.iloc[(disk[\"x\"], disk[\"y\"])] = disk[\"img\"]\n",
    "        recordKey(1)\n",
    "        dropDiskTimer.cancel()\n",
    "        dropDiskTimer = threading.Timer(diskDropSpeed, dropDisk)\n",
    "        dropDiskTimer.start()\n",
    "        refreshBoard()"
   ]
  },
  {
   "cell_type": "code",
   "execution_count": 11,
   "metadata": {},
   "outputs": [],
   "source": [
    "# Listen to keyboard events\n",
    "keyPressed = HTML('Key Pressed')\n",
    "boardEvent = Event(source=output, watched_events=['keydown'])\n",
    "def handleEvent(event):\n",
    "    lines = ['{}: {}'.format(k, v) for k, v in event.items()]\n",
    "    content = '<br>'.join(lines)\n",
    "    keyPressed.value = event['code']\n",
    "    if event['code'] == 'Space':\n",
    "        jumpDisk()\n",
    "boardEvent.on_dom_event(handleEvent)"
   ]
  },
  {
   "cell_type": "code",
   "execution_count": 12,
   "metadata": {},
   "outputs": [],
   "source": [
    "stackCountDown = random.randrange( 5, 10 )\n",
    "def randomCdStack():\n",
    "    global stackCountDown\n",
    "    if stackCountDown > 0:\n",
    "        stackCountDown -= 1\n",
    "        return\n",
    "    stackCountDown = random.randrange( 5, 10 )\n",
    "    length = random.randrange(3,6)\n",
    "    if random.randrange(2) == 0:\n",
    "        # ceiling stack\n",
    "        for i in range(length):\n",
    "            df.iloc[(i, width-1)] = \"💽\"\n",
    "    else:\n",
    "        # floor stack\n",
    "        for i in range(length):\n",
    "            df.iloc[(height-1-i, width-1)] = \"💽\""
   ]
  },
  {
   "cell_type": "code",
   "execution_count": 13,
   "metadata": {},
   "outputs": [],
   "source": [
    "diskMoveSpeed = 1.0\n",
    "diskCountDown = 20\n",
    "def moveDiskRight():\n",
    "    global df,disk, diskMoveSpeed, diskCountDown\n",
    "    nextY = disk[\"y\"] + 1\n",
    "    if df.iloc[(disk[\"x\"], nextY)] == \" \":\n",
    "        df.iloc[(disk[\"x\"], disk[\"y\"])] = \" \"\n",
    "        df.drop(0, inplace=True, axis=1)\n",
    "        line = pd.DataFrame(np.array(list(\" \" * height)))\n",
    "        df = pd.concat([df,line], axis=1)\n",
    "        df.columns = range(width)\n",
    "        df.iloc[(disk[\"x\"], disk[\"y\"])] = disk[\"img\"]\n",
    "    else:\n",
    "        saveKeyHistory()\n",
    "        return\n",
    "    randomCdStack()\n",
    "    diskCountDown -= 1\n",
    "    if diskCountDown == -1:\n",
    "        diskCountDown = 10\n",
    "        #diskMoveSpeed *= 0.9\n",
    "    moveDiskTimer = threading.Timer(diskMoveSpeed, moveDiskRight)\n",
    "    moveDiskTimer.start()"
   ]
  },
  {
   "cell_type": "code",
   "execution_count": 14,
   "metadata": {},
   "outputs": [],
   "source": [
    "# Start game \n",
    "def startGame():\n",
    "    display(board)\n",
    "    startRefresh()\n",
    "    dropDisk()\n",
    "    moveDiskRight()"
   ]
  },
  {
   "cell_type": "code",
   "execution_count": 15,
   "metadata": {},
   "outputs": [
    {
     "data": {
      "application/vnd.jupyter.widget-view+json": {
       "model_id": "07b8a55c27a34abaa4049b157eeb11de",
       "version_major": 2,
       "version_minor": 0
      },
      "text/plain": [
       "HBox(children=(Output(),), layout=Layout(height='350px'))"
      ]
     },
     "metadata": {},
     "output_type": "display_data"
    }
   ],
   "source": [
    "startGame()"
   ]
  },
  {
   "cell_type": "code",
   "execution_count": 16,
   "metadata": {},
   "outputs": [],
   "source": [
    "saveKeyHistory()"
   ]
  },
  {
   "cell_type": "code",
   "execution_count": null,
   "metadata": {},
   "outputs": [],
   "source": []
  }
 ],
 "metadata": {
  "kernelspec": {
   "display_name": "Python 3",
   "language": "python",
   "name": "python3"
  },
  "language_info": {
   "codemirror_mode": {
    "name": "ipython",
    "version": 3
   },
   "file_extension": ".py",
   "mimetype": "text/x-python",
   "name": "python",
   "nbconvert_exporter": "python",
   "pygments_lexer": "ipython3",
   "version": "3.8.1"
  }
 },
 "nbformat": 4,
 "nbformat_minor": 4
}
